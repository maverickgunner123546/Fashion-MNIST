{
 "cells": [
  {
   "cell_type": "code",
   "execution_count": 1,
   "id": "e7df5723",
   "metadata": {
    "execution": {
     "iopub.execute_input": "2022-08-19T09:31:43.370303Z",
     "iopub.status.busy": "2022-08-19T09:31:43.369858Z",
     "iopub.status.idle": "2022-08-19T09:31:43.380679Z",
     "shell.execute_reply": "2022-08-19T09:31:43.379838Z"
    },
    "papermill": {
     "duration": 0.019795,
     "end_time": "2022-08-19T09:31:43.383001",
     "exception": false,
     "start_time": "2022-08-19T09:31:43.363206",
     "status": "completed"
    },
    "tags": []
   },
   "outputs": [],
   "source": [
    "import pandas as pd\n",
    "import numpy as np\n",
    "from matplotlib import pyplot as plt"
   ]
  },
  {
   "cell_type": "code",
   "execution_count": 2,
   "id": "55cd0bf0",
   "metadata": {
    "execution": {
     "iopub.execute_input": "2022-08-19T09:31:43.392586Z",
     "iopub.status.busy": "2022-08-19T09:31:43.391947Z",
     "iopub.status.idle": "2022-08-19T09:31:44.406337Z",
     "shell.execute_reply": "2022-08-19T09:31:44.405316Z"
    },
    "papermill": {
     "duration": 1.022,
     "end_time": "2022-08-19T09:31:44.409040",
     "exception": false,
     "start_time": "2022-08-19T09:31:43.387040",
     "status": "completed"
    },
    "tags": []
   },
   "outputs": [],
   "source": [
    "data= pd.read_csv('/kaggle/input/fashionmnist/fashion-mnist_test.csv')"
   ]
  },
  {
   "cell_type": "code",
   "execution_count": 3,
   "id": "4db18be4",
   "metadata": {
    "execution": {
     "iopub.execute_input": "2022-08-19T09:31:44.419811Z",
     "iopub.status.busy": "2022-08-19T09:31:44.418924Z",
     "iopub.status.idle": "2022-08-19T09:31:44.447296Z",
     "shell.execute_reply": "2022-08-19T09:31:44.446189Z"
    },
    "papermill": {
     "duration": 0.036642,
     "end_time": "2022-08-19T09:31:44.449742",
     "exception": false,
     "start_time": "2022-08-19T09:31:44.413100",
     "status": "completed"
    },
    "tags": []
   },
   "outputs": [
    {
     "data": {
      "text/html": [
       "<div>\n",
       "<style scoped>\n",
       "    .dataframe tbody tr th:only-of-type {\n",
       "        vertical-align: middle;\n",
       "    }\n",
       "\n",
       "    .dataframe tbody tr th {\n",
       "        vertical-align: top;\n",
       "    }\n",
       "\n",
       "    .dataframe thead th {\n",
       "        text-align: right;\n",
       "    }\n",
       "</style>\n",
       "<table border=\"1\" class=\"dataframe\">\n",
       "  <thead>\n",
       "    <tr style=\"text-align: right;\">\n",
       "      <th></th>\n",
       "      <th>label</th>\n",
       "      <th>pixel1</th>\n",
       "      <th>pixel2</th>\n",
       "      <th>pixel3</th>\n",
       "      <th>pixel4</th>\n",
       "      <th>pixel5</th>\n",
       "      <th>pixel6</th>\n",
       "      <th>pixel7</th>\n",
       "      <th>pixel8</th>\n",
       "      <th>pixel9</th>\n",
       "      <th>...</th>\n",
       "      <th>pixel775</th>\n",
       "      <th>pixel776</th>\n",
       "      <th>pixel777</th>\n",
       "      <th>pixel778</th>\n",
       "      <th>pixel779</th>\n",
       "      <th>pixel780</th>\n",
       "      <th>pixel781</th>\n",
       "      <th>pixel782</th>\n",
       "      <th>pixel783</th>\n",
       "      <th>pixel784</th>\n",
       "    </tr>\n",
       "  </thead>\n",
       "  <tbody>\n",
       "    <tr>\n",
       "      <th>0</th>\n",
       "      <td>0</td>\n",
       "      <td>0</td>\n",
       "      <td>0</td>\n",
       "      <td>0</td>\n",
       "      <td>0</td>\n",
       "      <td>0</td>\n",
       "      <td>0</td>\n",
       "      <td>0</td>\n",
       "      <td>9</td>\n",
       "      <td>8</td>\n",
       "      <td>...</td>\n",
       "      <td>103</td>\n",
       "      <td>87</td>\n",
       "      <td>56</td>\n",
       "      <td>0</td>\n",
       "      <td>0</td>\n",
       "      <td>0</td>\n",
       "      <td>0</td>\n",
       "      <td>0</td>\n",
       "      <td>0</td>\n",
       "      <td>0</td>\n",
       "    </tr>\n",
       "    <tr>\n",
       "      <th>1</th>\n",
       "      <td>1</td>\n",
       "      <td>0</td>\n",
       "      <td>0</td>\n",
       "      <td>0</td>\n",
       "      <td>0</td>\n",
       "      <td>0</td>\n",
       "      <td>0</td>\n",
       "      <td>0</td>\n",
       "      <td>0</td>\n",
       "      <td>0</td>\n",
       "      <td>...</td>\n",
       "      <td>34</td>\n",
       "      <td>0</td>\n",
       "      <td>0</td>\n",
       "      <td>0</td>\n",
       "      <td>0</td>\n",
       "      <td>0</td>\n",
       "      <td>0</td>\n",
       "      <td>0</td>\n",
       "      <td>0</td>\n",
       "      <td>0</td>\n",
       "    </tr>\n",
       "    <tr>\n",
       "      <th>2</th>\n",
       "      <td>2</td>\n",
       "      <td>0</td>\n",
       "      <td>0</td>\n",
       "      <td>0</td>\n",
       "      <td>0</td>\n",
       "      <td>0</td>\n",
       "      <td>0</td>\n",
       "      <td>14</td>\n",
       "      <td>53</td>\n",
       "      <td>99</td>\n",
       "      <td>...</td>\n",
       "      <td>0</td>\n",
       "      <td>0</td>\n",
       "      <td>0</td>\n",
       "      <td>0</td>\n",
       "      <td>63</td>\n",
       "      <td>53</td>\n",
       "      <td>31</td>\n",
       "      <td>0</td>\n",
       "      <td>0</td>\n",
       "      <td>0</td>\n",
       "    </tr>\n",
       "    <tr>\n",
       "      <th>3</th>\n",
       "      <td>2</td>\n",
       "      <td>0</td>\n",
       "      <td>0</td>\n",
       "      <td>0</td>\n",
       "      <td>0</td>\n",
       "      <td>0</td>\n",
       "      <td>0</td>\n",
       "      <td>0</td>\n",
       "      <td>0</td>\n",
       "      <td>0</td>\n",
       "      <td>...</td>\n",
       "      <td>137</td>\n",
       "      <td>126</td>\n",
       "      <td>140</td>\n",
       "      <td>0</td>\n",
       "      <td>133</td>\n",
       "      <td>224</td>\n",
       "      <td>222</td>\n",
       "      <td>56</td>\n",
       "      <td>0</td>\n",
       "      <td>0</td>\n",
       "    </tr>\n",
       "    <tr>\n",
       "      <th>4</th>\n",
       "      <td>3</td>\n",
       "      <td>0</td>\n",
       "      <td>0</td>\n",
       "      <td>0</td>\n",
       "      <td>0</td>\n",
       "      <td>0</td>\n",
       "      <td>0</td>\n",
       "      <td>0</td>\n",
       "      <td>0</td>\n",
       "      <td>0</td>\n",
       "      <td>...</td>\n",
       "      <td>0</td>\n",
       "      <td>0</td>\n",
       "      <td>0</td>\n",
       "      <td>0</td>\n",
       "      <td>0</td>\n",
       "      <td>0</td>\n",
       "      <td>0</td>\n",
       "      <td>0</td>\n",
       "      <td>0</td>\n",
       "      <td>0</td>\n",
       "    </tr>\n",
       "  </tbody>\n",
       "</table>\n",
       "<p>5 rows × 785 columns</p>\n",
       "</div>"
      ],
      "text/plain": [
       "   label  pixel1  pixel2  pixel3  pixel4  pixel5  pixel6  pixel7  pixel8  \\\n",
       "0      0       0       0       0       0       0       0       0       9   \n",
       "1      1       0       0       0       0       0       0       0       0   \n",
       "2      2       0       0       0       0       0       0      14      53   \n",
       "3      2       0       0       0       0       0       0       0       0   \n",
       "4      3       0       0       0       0       0       0       0       0   \n",
       "\n",
       "   pixel9  ...  pixel775  pixel776  pixel777  pixel778  pixel779  pixel780  \\\n",
       "0       8  ...       103        87        56         0         0         0   \n",
       "1       0  ...        34         0         0         0         0         0   \n",
       "2      99  ...         0         0         0         0        63        53   \n",
       "3       0  ...       137       126       140         0       133       224   \n",
       "4       0  ...         0         0         0         0         0         0   \n",
       "\n",
       "   pixel781  pixel782  pixel783  pixel784  \n",
       "0         0         0         0         0  \n",
       "1         0         0         0         0  \n",
       "2        31         0         0         0  \n",
       "3       222        56         0         0  \n",
       "4         0         0         0         0  \n",
       "\n",
       "[5 rows x 785 columns]"
      ]
     },
     "execution_count": 3,
     "metadata": {},
     "output_type": "execute_result"
    }
   ],
   "source": [
    "data.head()"
   ]
  },
  {
   "cell_type": "code",
   "execution_count": 4,
   "id": "cfdb5a40",
   "metadata": {
    "execution": {
     "iopub.execute_input": "2022-08-19T09:31:44.459462Z",
     "iopub.status.busy": "2022-08-19T09:31:44.459079Z",
     "iopub.status.idle": "2022-08-19T09:31:44.489803Z",
     "shell.execute_reply": "2022-08-19T09:31:44.488290Z"
    },
    "papermill": {
     "duration": 0.038318,
     "end_time": "2022-08-19T09:31:44.492289",
     "exception": false,
     "start_time": "2022-08-19T09:31:44.453971",
     "status": "completed"
    },
    "tags": []
   },
   "outputs": [
    {
     "name": "stdout",
     "output_type": "stream",
     "text": [
      "Rows =  10000 | Columns =  785\n"
     ]
    }
   ],
   "source": [
    "data=np.array(data)\n",
    "total_images=len(data)\n",
    "total_pixels=len(data[0])\n",
    "print(\"Rows = \",total_images,\"| Columns = \",total_pixels)"
   ]
  },
  {
   "cell_type": "code",
   "execution_count": 5,
   "id": "527d5880",
   "metadata": {
    "execution": {
     "iopub.execute_input": "2022-08-19T09:31:44.502257Z",
     "iopub.status.busy": "2022-08-19T09:31:44.501892Z",
     "iopub.status.idle": "2022-08-19T09:31:44.628370Z",
     "shell.execute_reply": "2022-08-19T09:31:44.627165Z"
    },
    "papermill": {
     "duration": 0.134399,
     "end_time": "2022-08-19T09:31:44.630871",
     "exception": false,
     "start_time": "2022-08-19T09:31:44.496472",
     "status": "completed"
    },
    "tags": []
   },
   "outputs": [
    {
     "name": "stdout",
     "output_type": "stream",
     "text": [
      "784 7000\n",
      "[[0.         0.         0.         ... 0.         0.         0.        ]\n",
      " [0.         0.         0.         ... 0.         0.         0.        ]\n",
      " [0.         0.04705882 0.         ... 0.         0.         0.        ]\n",
      " ...\n",
      " [0.         0.04705882 0.         ... 0.         0.         0.        ]\n",
      " [0.         0.         0.         ... 0.         0.         0.        ]\n",
      " [0.         0.         0.         ... 0.         0.         0.        ]]\n"
     ]
    }
   ],
   "source": [
    "np.random.shuffle(data)\n",
    "training_data=data[3000:total_images].T\n",
    "testing_data=data[0:3000].T\n",
    "X_test=testing_data[1:total_pixels]\n",
    "Y_train=training_data[0]\n",
    "X_train=training_data[1:total_pixels]\n",
    "X_train=X_train/255\n",
    "print(len(X_train),len(Y_train))\n",
    "print(X_train)"
   ]
  },
  {
   "cell_type": "code",
   "execution_count": 6,
   "id": "146292f5",
   "metadata": {
    "execution": {
     "iopub.execute_input": "2022-08-19T09:31:44.641090Z",
     "iopub.status.busy": "2022-08-19T09:31:44.640723Z",
     "iopub.status.idle": "2022-08-19T09:31:44.656662Z",
     "shell.execute_reply": "2022-08-19T09:31:44.655691Z"
    },
    "papermill": {
     "duration": 0.023798,
     "end_time": "2022-08-19T09:31:44.659011",
     "exception": false,
     "start_time": "2022-08-19T09:31:44.635213",
     "status": "completed"
    },
    "tags": []
   },
   "outputs": [],
   "source": [
    "def weights_and_biases():\n",
    "    w1=np.random.rand(10,784)-0.5\n",
    "    b1=np.random.rand(10,1)-0.5\n",
    "    w2=np.random.rand(10,10)-0.5\n",
    "    b2=np.random.rand(10,1)-0.5\n",
    "    return w1,b1,w2,b2  \n",
    "\n",
    "\n",
    "def ReLU(Z):\n",
    "    return np.maximum(Z,0)\n",
    "\n",
    "def softmax(Z):\n",
    "    A=(np.exp(Z)/sum(np.exp(Z)))\n",
    "    return A\n",
    "\n",
    "def forward_propogation(w1,b1,w2,b2,X):\n",
    "    \"\"\"\"print(len(w1),len(w1[0]),len(X),len(X[0]),len(b1),len(b1[0]))\"\"\"\n",
    "    Z1=w1.dot(X)+b1\n",
    "    A1=ReLU(Z1)\n",
    "    Z2=w2.dot(A1)+b2\n",
    "    A2=softmax(Z2)\n",
    "    return Z1,A1,Z2,A2\n",
    "\n",
    "    \n",
    "def one_hot(Y):\n",
    "    one_hot_y=np.zeros((Y.size,Y.max()+1))\n",
    "    one_hot_y[np.arange(Y.size),Y]=1\n",
    "    one_hot_y=one_hot_y.T\n",
    "    return one_hot_y\n",
    "\n",
    "def deriv_ReLU(z):\n",
    "    return z>0\n",
    "\n",
    "def backward_propogation(z1,a1,z2,a2,w1,w2,x,y):\n",
    "    m=total_images\n",
    "    one_hot_y=one_hot(y)\n",
    "    dz2=a2-one_hot_y\n",
    "    dw2=1/m*dz2.dot(a1.T)\n",
    "    db2=1/m*np.sum(dz2)\n",
    "    dz1=w2.T.dot(dz2)*deriv_ReLU(z1)\n",
    "    dw1=1/m*dz1.dot(x.T)\n",
    "    db1=1/m*np.sum(dz1)\n",
    "    \n",
    "    return dw1,db1,dw2,db2\n",
    "\n",
    "def update_weights_and_biases(dw1,db1,dw2,db2,w1,b1,w2,b2,alpha):\n",
    "    w1=w1-alpha*dw1\n",
    "    b1=b1-alpha*db1\n",
    "    w2=w2-alpha*dw2\n",
    "    b2=b2-alpha*db2\n",
    "    return w1,b1,w2,b2"
   ]
  },
  {
   "cell_type": "code",
   "execution_count": 7,
   "id": "f8f35849",
   "metadata": {
    "execution": {
     "iopub.execute_input": "2022-08-19T09:31:44.669709Z",
     "iopub.status.busy": "2022-08-19T09:31:44.668663Z",
     "iopub.status.idle": "2022-08-19T09:31:44.677587Z",
     "shell.execute_reply": "2022-08-19T09:31:44.676790Z"
    },
    "papermill": {
     "duration": 0.016526,
     "end_time": "2022-08-19T09:31:44.679821",
     "exception": false,
     "start_time": "2022-08-19T09:31:44.663295",
     "status": "completed"
    },
    "tags": []
   },
   "outputs": [],
   "source": [
    "def get_predictions(A2):\n",
    "    return np.argmax(A2,0)\n",
    "\n",
    "def get_accuracy(predictions,Y):\n",
    "    print(predictions,Y)\n",
    "    return np.sum(predictions==Y)/Y.size\n",
    "\n",
    "def gradient_descent(X,Y,iterations,alpha):\n",
    "    w1,b1,w2,b2=weights_and_biases()\n",
    "    for i in range(iterations):\n",
    "        z1,a1,z2,a2=forward_propogation(w1,b1,w2,b2,X)\n",
    "        dw1,db1,dw2,db2=backward_propogation(z1,a1,z2,a2,w1,w2,X,Y)\n",
    "        w1,b1,w2,b2=update_weights_and_biases(dw1,db1,dw2,db2,w1,b1,w2,b2,alpha)\n",
    "        if i % 100==0:\n",
    "            print(\"Iteration - \",i)\n",
    "            print(\"Accuracy - \",get_accuracy(get_predictions(a2),Y))\n",
    "    return w1,b1,w2,b2\n",
    "    "
   ]
  },
  {
   "cell_type": "code",
   "execution_count": 8,
   "id": "e1ae9f9e",
   "metadata": {
    "execution": {
     "iopub.execute_input": "2022-08-19T09:31:44.689780Z",
     "iopub.status.busy": "2022-08-19T09:31:44.689360Z",
     "iopub.status.idle": "2022-08-19T09:33:39.441702Z",
     "shell.execute_reply": "2022-08-19T09:33:39.440376Z"
    },
    "papermill": {
     "duration": 114.760997,
     "end_time": "2022-08-19T09:33:39.444978",
     "exception": false,
     "start_time": "2022-08-19T09:31:44.683981",
     "status": "completed"
    },
    "tags": []
   },
   "outputs": [
    {
     "name": "stdout",
     "output_type": "stream",
     "text": [
      "Iteration -  0\n",
      "[2 2 2 ... 1 2 4] [8 6 6 ... 7 8 7]\n",
      "Accuracy -  0.11671428571428571\n",
      "Iteration -  100\n",
      "[8 4 4 ... 9 8 9] [8 6 6 ... 7 8 7]\n",
      "Accuracy -  0.6061428571428571\n",
      "Iteration -  200\n",
      "[8 6 4 ... 9 8 9] [8 6 6 ... 7 8 7]\n",
      "Accuracy -  0.6782857142857143\n",
      "Iteration -  300\n",
      "[8 0 4 ... 9 8 9] [8 6 6 ... 7 8 7]\n",
      "Accuracy -  0.7102857142857143\n",
      "Iteration -  400\n",
      "[8 0 4 ... 9 8 9] [8 6 6 ... 7 8 7]\n",
      "Accuracy -  0.7255714285714285\n",
      "Iteration -  500\n",
      "[8 0 4 ... 9 8 7] [8 6 6 ... 7 8 7]\n",
      "Accuracy -  0.7431428571428571\n",
      "Iteration -  600\n",
      "[8 0 4 ... 9 8 7] [8 6 6 ... 7 8 7]\n",
      "Accuracy -  0.7554285714285714\n",
      "Iteration -  700\n",
      "[8 0 4 ... 9 8 7] [8 6 6 ... 7 8 7]\n",
      "Accuracy -  0.7658571428571429\n",
      "Iteration -  800\n",
      "[8 0 4 ... 9 8 7] [8 6 6 ... 7 8 7]\n",
      "Accuracy -  0.7727142857142857\n",
      "Iteration -  900\n",
      "[8 0 4 ... 9 8 7] [8 6 6 ... 7 8 7]\n",
      "Accuracy -  0.7798571428571428\n",
      "Iteration -  1000\n",
      "[8 0 4 ... 9 8 7] [8 6 6 ... 7 8 7]\n",
      "Accuracy -  0.7864285714285715\n",
      "Iteration -  1100\n",
      "[8 0 4 ... 9 8 7] [8 6 6 ... 7 8 7]\n",
      "Accuracy -  0.7915714285714286\n",
      "Iteration -  1200\n",
      "[8 0 4 ... 9 8 7] [8 6 6 ... 7 8 7]\n",
      "Accuracy -  0.7957142857142857\n",
      "Iteration -  1300\n",
      "[8 0 4 ... 9 8 7] [8 6 6 ... 7 8 7]\n",
      "Accuracy -  0.7988571428571428\n",
      "Iteration -  1400\n",
      "[8 0 4 ... 9 8 7] [8 6 6 ... 7 8 7]\n",
      "Accuracy -  0.8012857142857143\n",
      "Iteration -  1500\n",
      "[8 0 4 ... 9 8 7] [8 6 6 ... 7 8 7]\n",
      "Accuracy -  0.8047142857142857\n",
      "Iteration -  1600\n",
      "[8 0 4 ... 9 8 7] [8 6 6 ... 7 8 7]\n",
      "Accuracy -  0.8072857142857143\n",
      "Iteration -  1700\n",
      "[8 0 4 ... 9 8 7] [8 6 6 ... 7 8 7]\n",
      "Accuracy -  0.8107142857142857\n",
      "Iteration -  1800\n",
      "[8 0 4 ... 9 8 7] [8 6 6 ... 7 8 7]\n",
      "Accuracy -  0.8138571428571428\n",
      "Iteration -  1900\n",
      "[8 0 4 ... 9 8 7] [8 6 6 ... 7 8 7]\n",
      "Accuracy -  0.8168571428571428\n",
      "Iteration -  2000\n",
      "[8 0 4 ... 9 8 7] [8 6 6 ... 7 8 7]\n",
      "Accuracy -  0.8202857142857143\n",
      "Iteration -  2100\n",
      "[8 0 4 ... 9 8 7] [8 6 6 ... 7 8 7]\n",
      "Accuracy -  0.8228571428571428\n",
      "Iteration -  2200\n",
      "[8 0 4 ... 9 8 7] [8 6 6 ... 7 8 7]\n",
      "Accuracy -  0.8241428571428572\n",
      "Iteration -  2300\n",
      "[8 0 4 ... 9 8 7] [8 6 6 ... 7 8 7]\n",
      "Accuracy -  0.8265714285714286\n",
      "Iteration -  2400\n",
      "[8 0 4 ... 9 8 7] [8 6 6 ... 7 8 7]\n",
      "Accuracy -  0.8277142857142857\n",
      "Iteration -  2500\n",
      "[8 0 4 ... 9 8 7] [8 6 6 ... 7 8 7]\n",
      "Accuracy -  0.8302857142857143\n",
      "Iteration -  2600\n",
      "[8 0 4 ... 9 8 7] [8 6 6 ... 7 8 7]\n",
      "Accuracy -  0.8328571428571429\n",
      "Iteration -  2700\n",
      "[8 0 4 ... 9 8 7] [8 6 6 ... 7 8 7]\n",
      "Accuracy -  0.8348571428571429\n",
      "Iteration -  2800\n",
      "[8 0 8 ... 9 8 7] [8 6 6 ... 7 8 7]\n",
      "Accuracy -  0.8375714285714285\n",
      "Iteration -  2900\n",
      "[8 0 8 ... 9 8 7] [8 6 6 ... 7 8 7]\n",
      "Accuracy -  0.8391428571428572\n",
      "Iteration -  3000\n",
      "[8 0 8 ... 9 8 7] [8 6 6 ... 7 8 7]\n",
      "Accuracy -  0.8402857142857143\n",
      "Iteration -  3100\n",
      "[8 0 8 ... 9 8 7] [8 6 6 ... 7 8 7]\n",
      "Accuracy -  0.8425714285714285\n",
      "Iteration -  3200\n",
      "[8 0 8 ... 9 8 7] [8 6 6 ... 7 8 7]\n",
      "Accuracy -  0.8447142857142858\n",
      "Iteration -  3300\n",
      "[8 0 8 ... 9 8 7] [8 6 6 ... 7 8 7]\n",
      "Accuracy -  0.8464285714285714\n",
      "Iteration -  3400\n",
      "[8 0 8 ... 9 8 7] [8 6 6 ... 7 8 7]\n",
      "Accuracy -  0.8477142857142858\n",
      "Iteration -  3500\n",
      "[8 0 8 ... 9 8 7] [8 6 6 ... 7 8 7]\n",
      "Accuracy -  0.8492857142857143\n",
      "Iteration -  3600\n",
      "[8 0 8 ... 9 8 7] [8 6 6 ... 7 8 7]\n",
      "Accuracy -  0.8514285714285714\n",
      "Iteration -  3700\n",
      "[8 6 8 ... 9 8 7] [8 6 6 ... 7 8 7]\n",
      "Accuracy -  0.8528571428571429\n",
      "Iteration -  3800\n",
      "[8 6 8 ... 9 8 7] [8 6 6 ... 7 8 7]\n",
      "Accuracy -  0.8542857142857143\n",
      "Iteration -  3900\n",
      "[8 6 8 ... 9 8 7] [8 6 6 ... 7 8 7]\n",
      "Accuracy -  0.8558571428571429\n",
      "Iteration -  4000\n",
      "[8 6 8 ... 9 8 7] [8 6 6 ... 7 8 7]\n",
      "Accuracy -  0.8564285714285714\n",
      "Iteration -  4100\n",
      "[8 6 8 ... 9 8 7] [8 6 6 ... 7 8 7]\n",
      "Accuracy -  0.8575714285714285\n",
      "Iteration -  4200\n",
      "[8 6 8 ... 9 8 7] [8 6 6 ... 7 8 7]\n",
      "Accuracy -  0.8581428571428571\n",
      "Iteration -  4300\n",
      "[8 6 8 ... 9 8 7] [8 6 6 ... 7 8 7]\n",
      "Accuracy -  0.8587142857142858\n",
      "Iteration -  4400\n",
      "[8 6 8 ... 9 8 7] [8 6 6 ... 7 8 7]\n",
      "Accuracy -  0.8595714285714285\n",
      "Iteration -  4500\n",
      "[8 6 8 ... 9 8 7] [8 6 6 ... 7 8 7]\n",
      "Accuracy -  0.861\n",
      "Iteration -  4600\n",
      "[8 6 8 ... 9 8 7] [8 6 6 ... 7 8 7]\n",
      "Accuracy -  0.8612857142857143\n",
      "Iteration -  4700\n",
      "[8 4 8 ... 9 8 7] [8 6 6 ... 7 8 7]\n",
      "Accuracy -  0.8615714285714285\n",
      "Iteration -  4800\n",
      "[8 4 8 ... 9 8 7] [8 6 6 ... 7 8 7]\n",
      "Accuracy -  0.8624285714285714\n",
      "Iteration -  4900\n",
      "[8 4 8 ... 9 8 7] [8 6 6 ... 7 8 7]\n",
      "Accuracy -  0.863\n"
     ]
    }
   ],
   "source": [
    "w1,b1,w2,b2=gradient_descent(X_train,Y_train,5000,0.1)"
   ]
  },
  {
   "cell_type": "code",
   "execution_count": 9,
   "id": "cd1423ad",
   "metadata": {
    "execution": {
     "iopub.execute_input": "2022-08-19T09:33:39.470053Z",
     "iopub.status.busy": "2022-08-19T09:33:39.469495Z",
     "iopub.status.idle": "2022-08-19T09:33:39.482430Z",
     "shell.execute_reply": "2022-08-19T09:33:39.481199Z"
    },
    "papermill": {
     "duration": 0.029527,
     "end_time": "2022-08-19T09:33:39.485981",
     "exception": false,
     "start_time": "2022-08-19T09:33:39.456454",
     "status": "completed"
    },
    "tags": []
   },
   "outputs": [],
   "source": [
    "def make_predictions(X, W1, b1, W2, b2):\n",
    "    _, _, _, A2 = forward_propogation(W1, b1, W2, b2, X)\n",
    "    predictions = get_predictions(A2)\n",
    "    return predictions\n",
    "\n",
    "def test_prediction(index, W1, b1, W2, b2,true_res):\n",
    "    current_image = X_train[:, index, None]\n",
    "    prediction = make_predictions(X_train[:, index, None], W1, b1, W2, b2)\n",
    "    label = Y_train[index]\n",
    "    if((int)(prediction[0])==(int)(label) ):\n",
    "        true_res+=1\n",
    "    return true_res\n"
   ]
  },
  {
   "cell_type": "code",
   "execution_count": 10,
   "id": "652108a0",
   "metadata": {
    "execution": {
     "iopub.execute_input": "2022-08-19T09:33:39.511329Z",
     "iopub.status.busy": "2022-08-19T09:33:39.510805Z",
     "iopub.status.idle": "2022-08-19T09:33:39.616400Z",
     "shell.execute_reply": "2022-08-19T09:33:39.615317Z"
    },
    "papermill": {
     "duration": 0.121514,
     "end_time": "2022-08-19T09:33:39.619514",
     "exception": false,
     "start_time": "2022-08-19T09:33:39.498000",
     "status": "completed"
    },
    "tags": []
   },
   "outputs": [
    {
     "name": "stdout",
     "output_type": "stream",
     "text": [
      "Total tests - 100 \n",
      "Accuracy-  82.0\n",
      "Total tests - 200 \n",
      "Accuracy-  82.0\n",
      "Total tests - 300 \n",
      "Accuracy-  82.33333333333334\n",
      "Total tests - 400 \n",
      "Accuracy-  82.0\n",
      "Total tests - 500 \n",
      "Accuracy-  82.8\n",
      "Total tests - 600 \n",
      "Accuracy-  83.0\n",
      "Total tests - 700 \n",
      "Accuracy-  83.0\n",
      "Total tests - 800 \n",
      "Accuracy-  84.125\n",
      "Total tests - 900 \n",
      "Accuracy-  84.44444444444444\n",
      "Total tests - 1000 \n",
      "Accuracy-  84.7\n",
      "Total tests - 1100 \n",
      "Accuracy-  84.72727272727273\n",
      "Total tests - 1200 \n",
      "Accuracy-  84.91666666666666\n",
      "Total tests - 1300 \n",
      "Accuracy-  84.92307692307692\n",
      "Total tests - 1400 \n",
      "Accuracy-  85.42857142857143\n",
      "Total tests - 1500 \n",
      "Accuracy-  85.6\n",
      "Total tests - 1600 \n",
      "Accuracy-  85.875\n",
      "Total tests - 1700 \n",
      "Accuracy-  85.82352941176471\n",
      "Total tests - 1800 \n",
      "Accuracy-  85.88888888888889\n",
      "Total tests - 1900 \n",
      "Accuracy-  86.10526315789474\n",
      "Total tests - 2000 \n",
      "Accuracy-  86.1\n",
      "Total tests - 2100 \n",
      "Accuracy-  86.23809523809524\n",
      "Total tests - 2200 \n",
      "Accuracy-  86.27272727272727\n",
      "Total tests - 2300 \n",
      "Accuracy-  86.43478260869564\n",
      "Total tests - 2400 \n",
      "Accuracy-  86.375\n",
      "Total tests - 2500 \n",
      "Accuracy-  86.28\n",
      "Total tests - 2600 \n",
      "Accuracy-  86.15384615384616\n",
      "Total tests - 2700 \n",
      "Accuracy-  86.11111111111111\n",
      "Total tests - 2800 \n",
      "Accuracy-  86.07142857142858\n",
      "Total tests - 2900 \n",
      "Accuracy-  86.17241379310346\n",
      "Total tests - 3000 \n",
      "Accuracy-  86.26666666666667\n"
     ]
    }
   ],
   "source": [
    "true_res=0\n",
    "for i in range(3000):\n",
    "    true_res=test_prediction(i, w1, b1, w2, b2,true_res)\n",
    "    if((i+1)%100==0):\n",
    "        print(\"Total tests -\",i+1,\"\\nAccuracy- \",(true_res/(i+1))*100 )"
   ]
  },
  {
   "cell_type": "code",
   "execution_count": 11,
   "id": "d3034361",
   "metadata": {
    "execution": {
     "iopub.execute_input": "2022-08-19T09:33:39.637118Z",
     "iopub.status.busy": "2022-08-19T09:33:39.636456Z",
     "iopub.status.idle": "2022-08-19T09:33:39.644222Z",
     "shell.execute_reply": "2022-08-19T09:33:39.643406Z"
    },
    "papermill": {
     "duration": 0.018482,
     "end_time": "2022-08-19T09:33:39.646344",
     "exception": false,
     "start_time": "2022-08-19T09:33:39.627862",
     "status": "completed"
    },
    "tags": []
   },
   "outputs": [],
   "source": [
    "def make_predictions(X, W1, b1, W2, b2):\n",
    "    _, _, _, A2 = forward_propogation(W1, b1, W2, b2, X)\n",
    "    predictions = get_predictions(A2)\n",
    "    return predictions\n",
    "\n",
    "def test_prediction(index, W1, b1, W2, b2,true_res):\n",
    "    current_image = X_train[:, index, None]\n",
    "    prediction = make_predictions(X_train[:, index, None], W1, b1, W2, b2)\n",
    "    label = Y_train[index]\n",
    "    print(\"Prediction: \",prediction[0])\n",
    "    print(\"Label: \", label)\n",
    "    if((int)(prediction[0])==(int)(label) ):\n",
    "        true_res+=1\n",
    "    print(true_res,index+1)\n",
    "    current_image = current_image.reshape((28, 28)) * 255\n",
    "    plt.gray()\n",
    "    plt.imshow(current_image, interpolation='nearest')\n",
    "    plt.show()\n",
    "    return true_res\n"
   ]
  },
  {
   "cell_type": "code",
   "execution_count": 12,
   "id": "d6bd1871",
   "metadata": {
    "execution": {
     "iopub.execute_input": "2022-08-19T09:33:39.663481Z",
     "iopub.status.busy": "2022-08-19T09:33:39.662706Z",
     "iopub.status.idle": "2022-08-19T09:33:41.352072Z",
     "shell.execute_reply": "2022-08-19T09:33:41.351193Z"
    },
    "papermill": {
     "duration": 1.700373,
     "end_time": "2022-08-19T09:33:41.354189",
     "exception": false,
     "start_time": "2022-08-19T09:33:39.653816",
     "status": "completed"
    },
    "tags": []
   },
   "outputs": [
    {
     "name": "stdout",
     "output_type": "stream",
     "text": [
      "Prediction:  8\n",
      "Label:  8\n",
      "1 1\n"
     ]
    },
    {
     "data": {
      "image/png": "[encoded data removed]",
      "text/plain": [
       "<Figure size 432x288 with 1 Axes>"
      ]
     },
     "metadata": {
      "needs_background": "light"
     },
     "output_type": "display_data"
    },
    {
     "name": "stdout",
     "output_type": "stream",
     "text": [
      "Prediction:  4\n",
      "Label:  6\n",
      "1 2\n"
     ]
    },
    {
     "data": {
      "image/png": "[encoded data removed]",
      "text/plain": [
       "<Figure size 432x288 with 1 Axes>"
      ]
     },
     "metadata": {
      "needs_background": "light"
     },
     "output_type": "display_data"
    },
    {
     "name": "stdout",
     "output_type": "stream",
     "text": [
      "Prediction:  8\n",
      "Label:  6\n",
      "1 3\n"
     ]
    },
    {
     "data": {
      "image/png": "[encoded data removed]",
      "text/plain": [
       "<Figure size 432x288 with 1 Axes>"
      ]
     },
     "metadata": {
      "needs_background": "light"
     },
     "output_type": "display_data"
    },
    {
     "name": "stdout",
     "output_type": "stream",
     "text": [
      "Prediction:  5\n",
      "Label:  5\n",
      "2 4\n"
     ]
    },
    {
     "data": {
      "image/png": "[encoded data removed]",
      "text/plain": [
       "<Figure size 432x288 with 1 Axes>"
      ]
     },
     "metadata": {
      "needs_background": "light"
     },
     "output_type": "display_data"
    },
    {
     "name": "stdout",
     "output_type": "stream",
     "text": [
      "Prediction:  9\n",
      "Label:  9\n",
      "3 5\n"
     ]
    },
    {
     "data": {
      "image/png": "[encoded data removed]",
      "text/plain": [
       "<Figure size 432x288 with 1 Axes>"
      ]
     },
     "metadata": {
      "needs_background": "light"
     },
     "output_type": "display_data"
    },
    {
     "name": "stdout",
     "output_type": "stream",
     "text": [
      "Prediction:  1\n",
      "Label:  1\n",
      "4 6\n"
     ]
    },
    {
     "data": {
      "image/png": "[encoded data removed]",
      "text/plain": [
       "<Figure size 432x288 with 1 Axes>"
      ]
     },
     "metadata": {
      "needs_background": "light"
     },
     "output_type": "display_data"
    },
    {
     "name": "stdout",
     "output_type": "stream",
     "text": [
      "Prediction:  1\n",
      "Label:  1\n",
      "5 7\n"
     ]
    },
    {
     "data": {
      "image/png": "[encoded data removed]",
      "text/plain": [
       "<Figure size 432x288 with 1 Axes>"
      ]
     },
     "metadata": {
      "needs_background": "light"
     },
     "output_type": "display_data"
    },
    {
     "name": "stdout",
     "output_type": "stream",
     "text": [
      "Prediction:  1\n",
      "Label:  1\n",
      "6 8\n"
     ]
    },
    {
     "data": {
      "image/png": "[encoded data removed]",
      "text/plain": [
       "<Figure size 432x288 with 1 Axes>"
      ]
     },
     "metadata": {
      "needs_background": "light"
     },
     "output_type": "display_data"
    },
    {
     "name": "stdout",
     "output_type": "stream",
     "text": [
      "Prediction:  0\n",
      "Label:  0\n",
      "7 9\n"
     ]
    },
    {
     "data": {
      "image/png": "[encoded data removed]",
      "text/plain": [
       "<Figure size 432x288 with 1 Axes>"
      ]
     },
     "metadata": {
      "needs_background": "light"
     },
     "output_type": "display_data"
    },
    {
     "name": "stdout",
     "output_type": "stream",
     "text": [
      "Prediction:  8\n",
      "Label:  8\n",
      "8 10\n"
     ]
    },
    {
     "data": {
      "image/png": "[encoded data removed]",
      "text/plain": [
       "<Figure size 432x288 with 1 Axes>"
      ]
     },
     "metadata": {
      "needs_background": "light"
     },
     "output_type": "display_data"
    }
   ],
   "source": [
    "true_res=0\n",
    "for i in range(10):\n",
    "    true_res=test_prediction(i, w1, b1, w2, b2,true_res)\n",
    "    if((i+1)%100==0):\n",
    "        print(\"Total tests -\",i+1,\"\\nAccuracy- \",(true_res/(i+1))*100 )\n",
    "    "
   ]
  }
 ],
 "metadata": {
  "kernelspec": {
   "display_name": "Python 3",
   "language": "python",
   "name": "python3"
  },
  "language_info": {
   "codemirror_mode": {
    "name": "ipython",
    "version": 3
   },
   "file_extension": ".py",
   "mimetype": "text/x-python",
   "name": "python",
   "nbconvert_exporter": "python",
   "pygments_lexer": "ipython3",
   "version": "3.7.12"
  },
  "papermill": {
   "default_parameters": {},
   "duration": 128.463722,
   "end_time": "2022-08-19T09:33:41.985356",
   "environment_variables": {},
   "exception": null,
   "input_path": "__notebook__.ipynb",
   "output_path": "__notebook__.ipynb",
   "parameters": {},
   "start_time": "2022-08-19T09:31:33.521634",
   "version": "2.3.4"
  }
 },
 "nbformat": 4,
 "nbformat_minor": 5
}
